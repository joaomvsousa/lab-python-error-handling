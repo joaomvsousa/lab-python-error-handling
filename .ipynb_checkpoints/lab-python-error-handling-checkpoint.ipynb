{
 "cells": [
  {
   "cell_type": "markdown",
   "id": "25d7736c-ba17-4aff-b6bb-66eba20fbf4e",
   "metadata": {},
   "source": [
    "# Lab | Error Handling"
   ]
  },
  {
   "cell_type": "code",
   "execution_count": null,
   "id": "a92a1c51-47c6-4a98-9ecb-75b942d33f42",
   "metadata": {},
   "outputs": [],
   "source": []
  },
  {
   "cell_type": "code",
   "execution_count": null,
   "id": "4b5c126b-665c-4aee-ad5e-eb29696e1933",
   "metadata": {},
   "outputs": [],
   "source": []
  },
  {
   "cell_type": "markdown",
   "id": "bc99b386-7508-47a0-bcdb-d969deaf6c8b",
   "metadata": {},
   "source": [
    "## Exercise: Error Handling for Managing Customer Orders\n",
    "\n",
    "The implementation of your code for managing customer orders assumes that the user will always enter a valid input. \n",
    "\n",
    "For example, we could modify the `initialize_inventory` function to include error handling.\n",
    "   - If the user enters an invalid quantity (e.g., a negative value or a non-numeric value), display an error message and ask them to re-enter the quantity for that product.\n",
    "   - Use a try-except block to handle the error and continue prompting the user until a valid quantity is entered.\n",
    "\n",
    "```python\n",
    "# Step 1: Define the function for initializing the inventory with error handling\n",
    "def initialize_inventory(products):\n",
    "    inventory = {}\n",
    "    for product in products:\n",
    "        valid_quantity = False\n",
    "        while not valid_quantity:\n",
    "            try:\n",
    "                quantity = int(input(f\"Enter the quantity of {product}s available: \"))\n",
    "                if quantity < 0:\n",
    "                    raise ValueError(\"Invalid quantity! Please enter a non-negative value.\")\n",
    "                valid_quantity = True\n",
    "            except ValueError as error:\n",
    "                print(f\"Error: {error}\")\n",
    "        inventory[product] = quantity\n",
    "    return inventory\n",
    "\n",
    "# Or, in another way:\n",
    "\n",
    "def initialize_inventory(products):\n",
    "    inventory = {}\n",
    "    for product in products:\n",
    "        valid_input = False\n",
    "        while not valid_input:\n",
    "            try:\n",
    "                quantity = int(input(f\"Enter the quantity of {product}s available: \"))\n",
    "                if quantity >= 0:\n",
    "                    inventory[product] = quantity\n",
    "                    valid_input = True\n",
    "                else:\n",
    "                    print(\"Quantity cannot be negative. Please enter a valid quantity.\")\n",
    "            except ValueError:\n",
    "                print(\"Invalid input. Please enter a valid quantity.\")\n",
    "    return inventory\n",
    "```\n",
    "\n",
    "Let's enhance your code by implementing error handling to handle invalid inputs.\n",
    "\n",
    "Follow the steps below to complete the exercise:\n",
    "\n",
    "2. Modify the `calculate_total_price` function to include error handling.\n",
    "   - If the user enters an invalid price (e.g., a negative value or a non-numeric value), display an error message and ask them to re-enter the price for that product.\n",
    "   - Use a try-except block to handle the error and continue prompting the user until a valid price is entered.\n",
    "\n",
    "3. Modify the `get_customer_orders` function to include error handling.\n",
    "   - If the user enters an invalid number of orders (e.g., a negative value or a non-numeric value), display an error message and ask them to re-enter the number of orders.\n",
    "   - If the user enters an invalid product name (e.g., a product name that is not in the inventory), or that doesn't have stock available, display an error message and ask them to re-enter the product name. *Hint: you will need to pass inventory as a parameter*\n",
    "   - Use a try-except block to handle the error and continue prompting the user until a valid product name is entered.\n",
    "\n",
    "4. Test your code by running the program and deliberately entering invalid quantities and product names. Make sure the error handling mechanism works as expected.\n"
   ]
  },
  {
   "cell_type": "code",
   "execution_count": 12,
   "id": "786fe135-a448-48ee-b3af-5c8dcc8aba13",
   "metadata": {
    "tags": []
   },
   "outputs": [
    {
     "name": "stdin",
     "output_type": "stream",
     "text": [
      "Enter the quantity of t-shirt available:  -1\n"
     ]
    },
    {
     "name": "stdout",
     "output_type": "stream",
     "text": [
      "Error: Invalid quantity! Please enter a non-negative value.\n"
     ]
    },
    {
     "name": "stdin",
     "output_type": "stream",
     "text": [
      "Enter the quantity of t-shirt available:  0\n",
      "Enter the quantity of mug available:  1\n",
      "Enter the quantity of hat available:  mo\n"
     ]
    },
    {
     "name": "stdout",
     "output_type": "stream",
     "text": [
      "Error: invalid literal for int() with base 10: 'mo'\n"
     ]
    },
    {
     "name": "stdin",
     "output_type": "stream",
     "text": [
      "Enter the quantity of hat available:  1\n",
      "Enter the quantity of book available:  1\n",
      "Enter the quantity of keychain available:  1\n",
      "Enter the name of the product that the customer wants to order:  mug\n",
      "Do you want to add another product? (yes/no):  yes\n",
      "Enter the name of the product that the customer wants to order:  hello\n"
     ]
    },
    {
     "name": "stdout",
     "output_type": "stream",
     "text": [
      "Error: Invalid product or out of stock! Please select from available products.\n"
     ]
    },
    {
     "name": "stdin",
     "output_type": "stream",
     "text": [
      "Enter the name of the product that the customer wants to order:  0\n"
     ]
    },
    {
     "name": "stdout",
     "output_type": "stream",
     "text": [
      "Error: Invalid product or out of stock! Please select from available products.\n"
     ]
    },
    {
     "name": "stdin",
     "output_type": "stream",
     "text": [
      "Enter the name of the product that the customer wants to order:  hat\n",
      "Do you want to add another product? (yes/no):  no\n",
      "enter the price of that hat:  10\n",
      "enter the price of that mug:  10\n",
      "enter the price of that hat:  10\n",
      "enter the price of that mug:  10\n"
     ]
    },
    {
     "name": "stdout",
     "output_type": "stream",
     "text": [
      "Total price:  40\n"
     ]
    }
   ],
   "source": [
    "products = [\"t-shirt\", \"mug\", \"hat\", \"book\", \"keychain\"]\n",
    "\n",
    "def initialize_inventory(products):\n",
    "    inventory = {}\n",
    "    for product in products:\n",
    "        valid_quantity = False\n",
    "        while not valid_quantity:\n",
    "            try:\n",
    "                quantity = int(input(f\"Enter the quantity of {product} available: \"))\n",
    "                if quantity < 0:\n",
    "                    raise ValueError(\"Invalid quantity! Please enter a non-negative value.\")\n",
    "                valid_quantity = True\n",
    "            except ValueError as error:\n",
    "                print(f\"Error: {error}\")\n",
    "        inventory[product] = quantity\n",
    "    return inventory\n",
    "\n",
    "def get_customer_orders(products, inventory):\n",
    "    customer_orders = set()\n",
    "    while True:\n",
    "        try:\n",
    "            product = input(\"Enter the name of the product that the customer wants to order: \")\n",
    "            if product not in inventory or inventory[product] <= 0:\n",
    "                raise ValueError(\"Invalid product or out of stock! Please select from available products.\")\n",
    "            \n",
    "            customer_orders.add(product)\n",
    "            \n",
    "            add_another = input(\"Do you want to add another product? (yes/no): \")\n",
    "            if add_another.lower() != 'yes':\n",
    "                break\n",
    "        except ValueError as error:\n",
    "            print(f\"Error: {error}\")\n",
    "    return customer_orders\n",
    "\n",
    "def calculate_total_price(products, customer_orders):\n",
    "    total_price = 0\n",
    "    for product in customer_orders:\n",
    "        while True:\n",
    "            try:\n",
    "                price = sum( [int( input(f\"enter the price of that {product}: \") ) for product in customer_orders ] )\n",
    "                if price < 0:\n",
    "                    raise ValueError(\"Invalid quantity! Please enter a non-negative value.\")\n",
    "                total_price += price\n",
    "                break\n",
    "            except ValueError as error:\n",
    "                    print(f\"Error: {error}\")\n",
    "    return total_price\n",
    "\n",
    "inventory = initialize_inventory(products)\n",
    "\n",
    "customer_orders = get_customer_orders(products, inventory)\n",
    "\n",
    "total_price = calculate_total_price(products, customer_orders)\n",
    "\n",
    "print(\"Total price: \", total_price)\n"
   ]
  }
 ],
 "metadata": {
  "kernelspec": {
   "display_name": "Python 3 (ipykernel)",
   "language": "python",
   "name": "python3"
  },
  "language_info": {
   "codemirror_mode": {
    "name": "ipython",
    "version": 3
   },
   "file_extension": ".py",
   "mimetype": "text/x-python",
   "name": "python",
   "nbconvert_exporter": "python",
   "pygments_lexer": "ipython3",
   "version": "3.11.7"
  }
 },
 "nbformat": 4,
 "nbformat_minor": 5
}
